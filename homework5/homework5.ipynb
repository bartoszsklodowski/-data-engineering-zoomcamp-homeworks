{
 "cells": [
  {
   "cell_type": "code",
   "execution_count": 1,
   "id": "00bc6543",
   "metadata": {},
   "outputs": [],
   "source": [
    "import pyspark\n",
    "from pyspark.sql import SparkSession\n",
    "from pyspark.sql import types"
   ]
  },
  {
   "cell_type": "code",
   "execution_count": 2,
   "id": "cd4a0f3d",
   "metadata": {},
   "outputs": [
    {
     "name": "stderr",
     "output_type": "stream",
     "text": [
      "Setting default log level to \"WARN\".\n",
      "To adjust logging level use sc.setLogLevel(newLevel). For SparkR, use setLogLevel(newLevel).\n"
     ]
    },
    {
     "name": "stdout",
     "output_type": "stream",
     "text": [
      "23/03/03 15:04:12 WARN NativeCodeLoader: Unable to load native-hadoop library for your platform... using builtin-java classes where applicable\n"
     ]
    }
   ],
   "source": [
    "spark = SparkSession.builder \\\n",
    "    .master(\"local[*]\") \\\n",
    "    .appName('test') \\\n",
    "    .getOrCreate()"
   ]
  },
  {
   "cell_type": "code",
   "execution_count": 3,
   "id": "eb3e4c36",
   "metadata": {},
   "outputs": [
    {
     "data": {
      "text/plain": [
       "'3.3.2'"
      ]
     },
     "execution_count": 3,
     "metadata": {},
     "output_type": "execute_result"
    }
   ],
   "source": [
    "spark.version"
   ]
  },
  {
   "cell_type": "code",
   "execution_count": 5,
   "id": "5236cebd",
   "metadata": {},
   "outputs": [
    {
     "name": "stdout",
     "output_type": "stream",
     "text": [
      "-rw-rw-r-- 1 bartoszsklodowski bartoszsklodowski 168M Mar  3 15:02 fhvhv_tripdata_2021-06.csv.gz\n"
     ]
    }
   ],
   "source": [
    "!ls -lh fhvhv_tripdata_2021-06.csv.gz"
   ]
  },
  {
   "cell_type": "code",
   "execution_count": 9,
   "id": "68bc8b72",
   "metadata": {},
   "outputs": [
    {
     "name": "stderr",
     "output_type": "stream",
     "text": [
      "[Stage 5:>                                                          (0 + 1) / 1]\r"
     ]
    },
    {
     "name": "stdout",
     "output_type": "stream",
     "text": [
      "23/03/03 15:20:43 WARN MemoryManager: Total allocation exceeds 95.00% (1,020,054,720 bytes) of heap memory\n",
      "Scaling row group sizes to 95.00% for 8 writers\n"
     ]
    },
    {
     "name": "stderr",
     "output_type": "stream",
     "text": [
      "[Stage 7:====>                                                     (1 + 8) / 12]\r"
     ]
    },
    {
     "name": "stdout",
     "output_type": "stream",
     "text": [
      "23/03/03 15:20:50 WARN MemoryManager: Total allocation exceeds 95.00% (1,020,054,720 bytes) of heap memory\n",
      "Scaling row group sizes to 95.00% for 8 writers\n"
     ]
    },
    {
     "name": "stderr",
     "output_type": "stream",
     "text": [
      "                                                                                \r"
     ]
    }
   ],
   "source": [
    "df = spark.read \\\n",
    "    .option(\"header\", \"true\") \\\n",
    "    .option(\"inferSchema\", True) \\\n",
    "    .csv('fhvhv_tripdata_2021-06.csv.gz')\n",
    "\n",
    "df = df.repartition(12)\n",
    "\n",
    "df.write.parquet('data/pq/fhvhv/2021/06/')"
   ]
  },
  {
   "cell_type": "code",
   "execution_count": 10,
   "id": "29e1a79d",
   "metadata": {},
   "outputs": [
    {
     "name": "stdout",
     "output_type": "stream",
     "text": [
      "total 284M\n",
      "-rw-r--r-- 1 bartoszsklodowski bartoszsklodowski 24M Mar  3 15:20 part-00000-f59d8fc9-d00c-40a0-8b69-039fbb05c678-c000.snappy.parquet\n",
      "-rw-r--r-- 1 bartoszsklodowski bartoszsklodowski 24M Mar  3 15:20 part-00001-f59d8fc9-d00c-40a0-8b69-039fbb05c678-c000.snappy.parquet\n",
      "-rw-r--r-- 1 bartoszsklodowski bartoszsklodowski 24M Mar  3 15:20 part-00002-f59d8fc9-d00c-40a0-8b69-039fbb05c678-c000.snappy.parquet\n",
      "-rw-r--r-- 1 bartoszsklodowski bartoszsklodowski 24M Mar  3 15:20 part-00003-f59d8fc9-d00c-40a0-8b69-039fbb05c678-c000.snappy.parquet\n",
      "-rw-r--r-- 1 bartoszsklodowski bartoszsklodowski 24M Mar  3 15:20 part-00004-f59d8fc9-d00c-40a0-8b69-039fbb05c678-c000.snappy.parquet\n",
      "-rw-r--r-- 1 bartoszsklodowski bartoszsklodowski 24M Mar  3 15:20 part-00005-f59d8fc9-d00c-40a0-8b69-039fbb05c678-c000.snappy.parquet\n",
      "-rw-r--r-- 1 bartoszsklodowski bartoszsklodowski 24M Mar  3 15:20 part-00006-f59d8fc9-d00c-40a0-8b69-039fbb05c678-c000.snappy.parquet\n",
      "-rw-r--r-- 1 bartoszsklodowski bartoszsklodowski 24M Mar  3 15:20 part-00007-f59d8fc9-d00c-40a0-8b69-039fbb05c678-c000.snappy.parquet\n",
      "-rw-r--r-- 1 bartoszsklodowski bartoszsklodowski 24M Mar  3 15:20 part-00008-f59d8fc9-d00c-40a0-8b69-039fbb05c678-c000.snappy.parquet\n",
      "-rw-r--r-- 1 bartoszsklodowski bartoszsklodowski 24M Mar  3 15:20 part-00009-f59d8fc9-d00c-40a0-8b69-039fbb05c678-c000.snappy.parquet\n",
      "-rw-r--r-- 1 bartoszsklodowski bartoszsklodowski 24M Mar  3 15:20 part-00010-f59d8fc9-d00c-40a0-8b69-039fbb05c678-c000.snappy.parquet\n",
      "-rw-r--r-- 1 bartoszsklodowski bartoszsklodowski 24M Mar  3 15:20 part-00011-f59d8fc9-d00c-40a0-8b69-039fbb05c678-c000.snappy.parquet\n",
      "-rw-r--r-- 1 bartoszsklodowski bartoszsklodowski   0 Mar  3 15:20 _SUCCESS\n"
     ]
    }
   ],
   "source": [
    "!ls -lh data/pq/fhvhv/2021/06/"
   ]
  },
  {
   "cell_type": "code",
   "execution_count": 11,
   "id": "58989b55",
   "metadata": {},
   "outputs": [],
   "source": [
    "df = spark.read.parquet('data/pq/fhvhv/2021/06/')"
   ]
  },
  {
   "cell_type": "code",
   "execution_count": 12,
   "id": "32381f02",
   "metadata": {},
   "outputs": [
    {
     "data": {
      "text/plain": [
       "['dispatching_base_num',\n",
       " 'pickup_datetime',\n",
       " 'dropoff_datetime',\n",
       " 'PULocationID',\n",
       " 'DOLocationID',\n",
       " 'SR_Flag',\n",
       " 'Affiliated_base_number']"
      ]
     },
     "execution_count": 12,
     "metadata": {},
     "output_type": "execute_result"
    }
   ],
   "source": [
    "df.columns"
   ]
  },
  {
   "attachments": {},
   "cell_type": "markdown",
   "id": "48b01d2f",
   "metadata": {},
   "source": [
    "**Q3**: How many taxi trips were there on June 15??"
   ]
  },
  {
   "cell_type": "code",
   "execution_count": 14,
   "id": "f7489aea",
   "metadata": {},
   "outputs": [],
   "source": [
    "from pyspark.sql import functions as F"
   ]
  },
  {
   "cell_type": "code",
   "execution_count": 15,
   "id": "6c2500fd",
   "metadata": {},
   "outputs": [
    {
     "name": "stderr",
     "output_type": "stream",
     "text": [
      "                                                                                \r"
     ]
    },
    {
     "data": {
      "text/plain": [
       "452470"
      ]
     },
     "execution_count": 15,
     "metadata": {},
     "output_type": "execute_result"
    }
   ],
   "source": [
    "df \\\n",
    "    .withColumn('pickup_date', F.to_date(df.pickup_datetime)) \\\n",
    "    .filter(\"pickup_date = '2021-06-15'\") \\\n",
    "    .count()"
   ]
  },
  {
   "attachments": {},
   "cell_type": "markdown",
   "id": "ae3f533b",
   "metadata": {},
   "source": [
    "**Q4**: Longest trip for each day"
   ]
  },
  {
   "cell_type": "code",
   "execution_count": 22,
   "id": "7befe422",
   "metadata": {},
   "outputs": [
    {
     "data": {
      "text/plain": [
       "['dispatching_base_num',\n",
       " 'pickup_datetime',\n",
       " 'dropoff_datetime',\n",
       " 'PULocationID',\n",
       " 'DOLocationID',\n",
       " 'SR_Flag',\n",
       " 'Affiliated_base_number']"
      ]
     },
     "execution_count": 22,
     "metadata": {},
     "output_type": "execute_result"
    }
   ],
   "source": [
    "df.columns"
   ]
  },
  {
   "cell_type": "code",
   "execution_count": 24,
   "id": "6de82539",
   "metadata": {},
   "outputs": [
    {
     "name": "stdout",
     "output_type": "stream",
     "text": [
      "+--------------------+-------------------+-------------------+------------+------------+-------+----------------------+----------+\n",
      "|dispatching_base_num|    pickup_datetime|   dropoff_datetime|PULocationID|DOLocationID|SR_Flag|Affiliated_base_number|  duration|\n",
      "+--------------------+-------------------+-------------------+------------+------------+-------+----------------------+----------+\n",
      "|              B02877|2021-06-11 12:28:02|2021-06-11 12:36:01|         230|          43|      N|                B02877|1623407761|\n",
      "|              B02765|2021-06-13 08:46:22|2021-06-13 09:03:00|          37|          61|      N|                B02765|1623567780|\n",
      "|              B02510|2021-06-28 18:39:27|2021-06-28 18:50:53|         231|          79|      N|                  null|1624899053|\n",
      "|              B02869|2021-06-05 18:15:05|2021-06-05 18:28:32|         244|         127|      N|                B02869|1622910512|\n",
      "|              B02872|2021-06-06 19:15:38|2021-06-06 19:26:58|          82|          82|      N|                B02872|1623000418|\n",
      "|              B02682|2021-06-07 18:59:58|2021-06-07 19:10:50|          89|         188|      N|                B02682|1623085850|\n",
      "|              B02836|2021-06-09 15:27:48|2021-06-09 15:56:36|         164|         246|      N|                B02836|1623246996|\n",
      "|              B02510|2021-06-27 03:39:56|2021-06-27 04:02:10|          41|         230|      N|                  null|1624759330|\n",
      "|              B02510|2021-06-09 11:39:03|2021-06-09 11:43:25|         149|         123|      N|                  null|1623231805|\n",
      "|              B02875|2021-06-20 11:16:26|2021-06-20 11:28:42|          28|         216|      N|                B02875|1624181322|\n",
      "|              B02510|2021-06-25 16:14:53|2021-06-25 17:10:30|         239|         244|      N|                  null|1624633830|\n",
      "|              B02617|2021-06-13 18:13:03|2021-06-13 18:32:53|         149|          89|      N|                B02617|1623601973|\n",
      "|              B02682|2021-06-14 03:50:52|2021-06-14 04:10:03|          36|          26|      N|                B02682|1623636603|\n",
      "|              B02872|2021-06-25 18:37:30|2021-06-25 19:19:08|         138|         265|      N|                B02872|1624641548|\n",
      "|              B02872|2021-06-05 14:27:04|2021-06-05 14:34:33|          41|          41|      N|                B02872|1622896473|\n",
      "|              B02764|2021-06-28 21:40:22|2021-06-28 22:20:43|         133|          10|      N|                B02764|1624911643|\n",
      "|              B02765|2021-06-29 22:08:20|2021-06-29 22:28:43|         223|           4|      N|                B02765|1624998523|\n",
      "|              B02878|2021-06-25 14:41:35|2021-06-25 16:13:44|          72|         147|      N|                B02878|1624630424|\n",
      "|              B02880|2021-06-09 22:13:23|2021-06-09 22:39:00|         234|          52|      N|                B02880|1623271140|\n",
      "|              B02836|2021-06-30 22:01:58|2021-06-30 22:14:03|          17|          61|      N|                B02836|1625084043|\n",
      "+--------------------+-------------------+-------------------+------------+------------+-------+----------------------+----------+\n",
      "only showing top 20 rows\n",
      "\n"
     ]
    }
   ],
   "source": [
    "df \\\n",
    "    .withColumn('duration', df.dropoff_datetime.cast('long')) \\\n",
    "    .show()"
   ]
  },
  {
   "cell_type": "code",
   "execution_count": 25,
   "id": "279d9161",
   "metadata": {},
   "outputs": [
    {
     "name": "stderr",
     "output_type": "stream",
     "text": [
      "[Stage 24:======================================>                  (8 + 4) / 12]\r"
     ]
    },
    {
     "name": "stdout",
     "output_type": "stream",
     "text": [
      "+-----------+------------------+\n",
      "|pickup_date|     max(duration)|\n",
      "+-----------+------------------+\n",
      "| 2021-06-25|  66.8788888888889|\n",
      "| 2021-06-22|25.549722222222222|\n",
      "| 2021-06-27|19.980833333333333|\n",
      "| 2021-06-26|18.197222222222223|\n",
      "| 2021-06-23|16.466944444444444|\n",
      "+-----------+------------------+\n",
      "\n"
     ]
    },
    {
     "name": "stderr",
     "output_type": "stream",
     "text": [
      "                                                                                \r"
     ]
    }
   ],
   "source": [
    "df \\\n",
    "    .withColumn('duration', (df.dropoff_datetime.cast('long') - df.pickup_datetime.cast('long'))/3600) \\\n",
    "    .withColumn('pickup_date', F.to_date(df.pickup_datetime)) \\\n",
    "    .groupBy('pickup_date') \\\n",
    "        .max('duration') \\\n",
    "    .orderBy('max(duration)', ascending=False) \\\n",
    "    .limit(5) \\\n",
    "    .show()"
   ]
  },
  {
   "attachments": {},
   "cell_type": "markdown",
   "id": "d915096b",
   "metadata": {},
   "source": [
    "**Q6**: What is the name of the most frequent pickup location zone?"
   ]
  },
  {
   "cell_type": "code",
   "execution_count": 26,
   "id": "e1f7d7ac",
   "metadata": {},
   "outputs": [],
   "source": [
    "zones = spark.read \\\n",
    "    .option(\"header\", \"true\") \\\n",
    "    .option(\"inferSchema\", True) \\\n",
    "    .csv('taxi+_zone_lookup.csv')\n"
   ]
  },
  {
   "cell_type": "code",
   "execution_count": 28,
   "id": "8895bfd9",
   "metadata": {},
   "outputs": [],
   "source": [
    "zones.createOrReplaceTempView('zones')"
   ]
  },
  {
   "cell_type": "code",
   "execution_count": 29,
   "id": "c4a0b38c",
   "metadata": {},
   "outputs": [],
   "source": [
    "df.createOrReplaceTempView('fhvhv_2021_06')"
   ]
  },
  {
   "cell_type": "code",
   "execution_count": 31,
   "id": "280a8046",
   "metadata": {},
   "outputs": [
    {
     "name": "stderr",
     "output_type": "stream",
     "text": [
      "[Stage 33:======================================>                  (8 + 4) / 12]\r"
     ]
    },
    {
     "name": "stdout",
     "output_type": "stream",
     "text": [
      "+-------------------+--------+\n",
      "|           pul_zone|count(1)|\n",
      "+-------------------+--------+\n",
      "|Crown Heights North|  231279|\n",
      "|       East Village|  221244|\n",
      "|        JFK Airport|  188867|\n",
      "|     Bushwick South|  187929|\n",
      "|      East New York|  186780|\n",
      "+-------------------+--------+\n",
      "\n"
     ]
    },
    {
     "name": "stderr",
     "output_type": "stream",
     "text": [
      "                                                                                \r"
     ]
    }
   ],
   "source": [
    "spark.sql(\"\"\"\n",
    "SELECT\n",
    "    pul.Zone AS pul_zone,\n",
    "    COUNT(1)\n",
    "FROM \n",
    "    fhvhv_2021_06 fhv LEFT JOIN zones pul ON fhv.PULocationID = pul.LocationID\n",
    "                      LEFT JOIN zones dol ON fhv.DOLocationID = dol.LocationID\n",
    "GROUP BY \n",
    "    1\n",
    "ORDER BY\n",
    "    2 DESC\n",
    "LIMIT 5;\n",
    "\"\"\").show()"
   ]
  }
 ],
 "metadata": {
  "kernelspec": {
   "display_name": "Python 3 (ipykernel)",
   "language": "python",
   "name": "python3"
  },
  "language_info": {
   "codemirror_mode": {
    "name": "ipython",
    "version": 3
   },
   "file_extension": ".py",
   "mimetype": "text/x-python",
   "name": "python",
   "nbconvert_exporter": "python",
   "pygments_lexer": "ipython3",
   "version": "3.9.16"
  }
 },
 "nbformat": 4,
 "nbformat_minor": 5
}
